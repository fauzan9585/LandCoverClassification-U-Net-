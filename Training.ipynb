{
 "cells": [
  {
   "cell_type": "markdown",
   "metadata": {},
   "source": [
    "**DEFINING INPUT FILE**"
   ]
  },
  {
   "cell_type": "code",
   "execution_count": null,
   "metadata": {},
   "outputs": [],
   "source": [
    "model_dir = 'Full_Area_S2_2016_v2/FULLAREA_S2_2016_v2/trained_model_0,1LR_200epochs_0,95DR_WCE'\n",
    "train_tfrecord = 'Full_Area_S2_2016_v2/FULLAREA_S2_2016_v2/dataset2/def_dataset_train.tfrecord'\n",
    "test_tfrecord = 'Full_Area_S2_2016_v2/FULLAREA_S2_2016_v2/dataset2/def_dataset_test.tfrecord'"
   ]
  },
  {
   "cell_type": "markdown",
   "metadata": {},
   "source": [
    "**IMPORT LIBRARIES**"
   ]
  },
  {
   "cell_type": "code",
   "execution_count": 2,
   "metadata": {},
   "outputs": [],
   "source": [
    "import numpy as np\n",
    "import gdal\n",
    "import os\n",
    "import deepgeo\n",
    "import deepgeo.networks.model_builder as mb\n",
    "import deepgeo.networks.loss_functions as lossf\n"
   ]
  },
  {
   "cell_type": "markdown",
   "metadata": {},
   "source": [
    "**SETTING UP MODEL PARAMETERS**"
   ]
  },
  {
   "cell_type": "code",
   "execution_count": 3,
   "metadata": {},
   "outputs": [],
   "source": [
    "weights_train = lossf.compute_weights_mean_proportion(train_tfrecord, ['no_data', 'cloud', 'bare land', 'natural forest', 'other land cover','oil palm', 'water'] , classes_zero =['no_data']) #consider 0 for no data in the network\n",
    "weights_eval = lossf.compute_weights_mean_proportion(test_tfrecord, ['no_data', \"cloud\", 'bare land' ,'natural forest', 'other land cover','oil palm', 'water'] , classes_zero=['no_data'])"
   ]
  },
  {
   "cell_type": "code",
   "execution_count": null,
   "metadata": {},
   "outputs": [],
   "source": [
    "params = {\n",
    "    'network': 'unet',\n",
    "    'epochs':200 ,\n",
    "    'batch_size': 5,\n",
    "    'chip_size': 300,\n",
    "    'bands': 9,\n",
    "    'learning_rate': 0.1,\n",
    "    'learning_rate_decay': True,\n",
    "    'decay_rate': 0.95,\n",
    "    'l2_reg_rate': 0.0005,\n",
    "    'chips_tensorboard': 2,\n",
    "    'loss_func': 'weighted_cross_entropy',#avg_soft_dice\n",
    "    'data_aug_ops': ['rot90', 'rot180', 'rot270', 'flip_left_right',\n",
    "                     'flip_up_down', 'flip_transpose'],\n",
    "    'data_aug_per_chip': 6,\n",
    "    'class_weights' :{'train':weights_train, 'eval':weights_eval},\n",
    "    'num_classes': 7,\n",
    "    'class_names': ['no_data', 'cloud' ,'bare land', 'natural forest', 'other land cover','oil palm', 'water'],\n",
    "    'num_compositions': 1,\n",
    "    'bands_plot': [1, 5, 2],\n",
    "    'Notes': 'Full_Sentinel2_2016.'\n",
    "}"
   ]
  },
  {
   "cell_type": "markdown",
   "metadata": {},
   "source": [
    "**RUN THE U-NET MODEL**"
   ]
  },
  {
   "cell_type": "code",
   "execution_count": null,
   "metadata": {},
   "outputs": [],
   "source": [
    "model = mb.ModelBuilder(params)\n",
    "model.train(train_tfrecord, test_tfrecord, model_dir)"
   ]
  }
 ],
 "metadata": {
  "kernelspec": {
   "display_name": "Python 3",
   "language": "python",
   "name": "python3"
  },
  "language_info": {
   "codemirror_mode": {
    "name": "ipython",
    "version": 3
   },
   "file_extension": ".py",
   "mimetype": "text/x-python",
   "name": "python",
   "nbconvert_exporter": "python",
   "pygments_lexer": "ipython3",
   "version": "3.6.10"
  }
 },
 "nbformat": 4,
 "nbformat_minor": 4
}
